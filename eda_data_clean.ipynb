{
 "cells": [
  {
   "cell_type": "markdown",
   "metadata": {},
   "source": [
    "# Notebook for Exploratory Visualization of Final Bloom and Weather Data"
   ]
  },
  {
   "cell_type": "code",
   "execution_count": 7,
   "metadata": {},
   "outputs": [],
   "source": [
    "import pandas as pd\n",
    "import numpy as np\n",
    "import matplotlib.pyplot as plt"
   ]
  },
  {
   "cell_type": "code",
   "execution_count": 4,
   "metadata": {},
   "outputs": [
    {
     "data": {
      "text/html": [
       "<div>\n",
       "<style scoped>\n",
       "    .dataframe tbody tr th:only-of-type {\n",
       "        vertical-align: middle;\n",
       "    }\n",
       "\n",
       "    .dataframe tbody tr th {\n",
       "        vertical-align: top;\n",
       "    }\n",
       "\n",
       "    .dataframe thead th {\n",
       "        text-align: right;\n",
       "    }\n",
       "</style>\n",
       "<table border=\"1\" class=\"dataframe\">\n",
       "  <thead>\n",
       "    <tr style=\"text-align: right;\">\n",
       "      <th></th>\n",
       "      <th>Unnamed: 0</th>\n",
       "      <th>l_code</th>\n",
       "      <th>l_name</th>\n",
       "      <th>year</th>\n",
       "      <th>day</th>\n",
       "      <th>rm</th>\n",
       "      <th>l_name_romaji</th>\n",
       "      <th>Jan_1_lag_1</th>\n",
       "      <th>Feb_1_lag_1</th>\n",
       "      <th>Mar_1_lag_1</th>\n",
       "      <th>...</th>\n",
       "      <th>Oct_14_lag_3</th>\n",
       "      <th>Nov_14_lag_3</th>\n",
       "      <th>Dec_14_lag_3</th>\n",
       "      <th>Annual_14_lag_3</th>\n",
       "      <th>blooming_date</th>\n",
       "      <th>days_since_yr_start</th>\n",
       "      <th>days_lag_minus_1</th>\n",
       "      <th>days_lag_minus_2</th>\n",
       "      <th>days_lag_minus_3</th>\n",
       "      <th>rownullsums</th>\n",
       "    </tr>\n",
       "  </thead>\n",
       "  <tbody>\n",
       "    <tr>\n",
       "      <th>0</th>\n",
       "      <td>0</td>\n",
       "      <td>401</td>\n",
       "      <td>稚内</td>\n",
       "      <td>1953</td>\n",
       "      <td>530</td>\n",
       "      <td>6</td>\n",
       "      <td>WAKKANAI</td>\n",
       "      <td>-5.7</td>\n",
       "      <td>-7.1</td>\n",
       "      <td>-2.4</td>\n",
       "      <td>...</td>\n",
       "      <td>NaN</td>\n",
       "      <td>NaN</td>\n",
       "      <td>NaN</td>\n",
       "      <td>NaN</td>\n",
       "      <td>1953-05-30</td>\n",
       "      <td>149.0</td>\n",
       "      <td>146.0</td>\n",
       "      <td>142.0</td>\n",
       "      <td>135.0</td>\n",
       "      <td>91</td>\n",
       "    </tr>\n",
       "    <tr>\n",
       "      <th>1</th>\n",
       "      <td>1</td>\n",
       "      <td>401</td>\n",
       "      <td>稚内</td>\n",
       "      <td>1954</td>\n",
       "      <td>527</td>\n",
       "      <td>6</td>\n",
       "      <td>WAKKANAI</td>\n",
       "      <td>-7.7</td>\n",
       "      <td>-7.3</td>\n",
       "      <td>-0.9</td>\n",
       "      <td>...</td>\n",
       "      <td>NaN</td>\n",
       "      <td>NaN</td>\n",
       "      <td>NaN</td>\n",
       "      <td>NaN</td>\n",
       "      <td>1954-05-27</td>\n",
       "      <td>146.0</td>\n",
       "      <td>142.0</td>\n",
       "      <td>135.0</td>\n",
       "      <td>141.0</td>\n",
       "      <td>65</td>\n",
       "    </tr>\n",
       "    <tr>\n",
       "      <th>2</th>\n",
       "      <td>2</td>\n",
       "      <td>401</td>\n",
       "      <td>稚内</td>\n",
       "      <td>1955</td>\n",
       "      <td>523</td>\n",
       "      <td>6</td>\n",
       "      <td>WAKKANAI</td>\n",
       "      <td>-6.7</td>\n",
       "      <td>-4.1</td>\n",
       "      <td>-2.5</td>\n",
       "      <td>...</td>\n",
       "      <td>NaN</td>\n",
       "      <td>NaN</td>\n",
       "      <td>NaN</td>\n",
       "      <td>NaN</td>\n",
       "      <td>1955-05-23</td>\n",
       "      <td>142.0</td>\n",
       "      <td>135.0</td>\n",
       "      <td>141.0</td>\n",
       "      <td>144.0</td>\n",
       "      <td>52</td>\n",
       "    </tr>\n",
       "    <tr>\n",
       "      <th>3</th>\n",
       "      <td>3</td>\n",
       "      <td>401</td>\n",
       "      <td>稚内</td>\n",
       "      <td>1956</td>\n",
       "      <td>514</td>\n",
       "      <td>6</td>\n",
       "      <td>WAKKANAI</td>\n",
       "      <td>-6.4</td>\n",
       "      <td>-4.8</td>\n",
       "      <td>-1.3</td>\n",
       "      <td>...</td>\n",
       "      <td>--</td>\n",
       "      <td>113</td>\n",
       "      <td>48</td>\n",
       "      <td>208 ]</td>\n",
       "      <td>1956-05-14</td>\n",
       "      <td>135.0</td>\n",
       "      <td>141.0</td>\n",
       "      <td>144.0</td>\n",
       "      <td>131.0</td>\n",
       "      <td>39</td>\n",
       "    </tr>\n",
       "    <tr>\n",
       "      <th>4</th>\n",
       "      <td>4</td>\n",
       "      <td>401</td>\n",
       "      <td>稚内</td>\n",
       "      <td>1957</td>\n",
       "      <td>522</td>\n",
       "      <td>6</td>\n",
       "      <td>WAKKANAI</td>\n",
       "      <td>-6.1</td>\n",
       "      <td>-4.6</td>\n",
       "      <td>-2.0</td>\n",
       "      <td>...</td>\n",
       "      <td>0</td>\n",
       "      <td>71</td>\n",
       "      <td>60</td>\n",
       "      <td>529</td>\n",
       "      <td>1957-05-22</td>\n",
       "      <td>141.0</td>\n",
       "      <td>144.0</td>\n",
       "      <td>131.0</td>\n",
       "      <td>145.0</td>\n",
       "      <td>39</td>\n",
       "    </tr>\n",
       "  </tbody>\n",
       "</table>\n",
       "<p>5 rows × 559 columns</p>\n",
       "</div>"
      ],
      "text/plain": [
       "   Unnamed: 0  l_code l_name  year  day  rm l_name_romaji Jan_1_lag_1  \\\n",
       "0           0     401     稚内  1953  530   6      WAKKANAI        -5.7   \n",
       "1           1     401     稚内  1954  527   6      WAKKANAI        -7.7   \n",
       "2           2     401     稚内  1955  523   6      WAKKANAI        -6.7   \n",
       "3           3     401     稚内  1956  514   6      WAKKANAI        -6.4   \n",
       "4           4     401     稚内  1957  522   6      WAKKANAI        -6.1   \n",
       "\n",
       "  Feb_1_lag_1 Mar_1_lag_1     ...     Oct_14_lag_3 Nov_14_lag_3 Dec_14_lag_3  \\\n",
       "0        -7.1        -2.4     ...              NaN          NaN          NaN   \n",
       "1        -7.3        -0.9     ...              NaN          NaN          NaN   \n",
       "2        -4.1        -2.5     ...              NaN          NaN          NaN   \n",
       "3        -4.8        -1.3     ...               --          113           48   \n",
       "4        -4.6        -2.0     ...                0           71           60   \n",
       "\n",
       "  Annual_14_lag_3 blooming_date days_since_yr_start days_lag_minus_1  \\\n",
       "0             NaN    1953-05-30               149.0            146.0   \n",
       "1             NaN    1954-05-27               146.0            142.0   \n",
       "2             NaN    1955-05-23               142.0            135.0   \n",
       "3           208 ]    1956-05-14               135.0            141.0   \n",
       "4             529    1957-05-22               141.0            144.0   \n",
       "\n",
       "  days_lag_minus_2 days_lag_minus_3 rownullsums  \n",
       "0            142.0            135.0          91  \n",
       "1            135.0            141.0          65  \n",
       "2            141.0            144.0          52  \n",
       "3            144.0            131.0          39  \n",
       "4            131.0            145.0          39  \n",
       "\n",
       "[5 rows x 559 columns]"
      ]
     },
     "execution_count": 4,
     "metadata": {},
     "output_type": "execute_result"
    }
   ],
   "source": [
    "df = pd.read_csv('data/data_clean.csv',low_memory=False); df.head()"
   ]
  },
  {
   "cell_type": "code",
   "execution_count": 40,
   "metadata": {},
   "outputs": [],
   "source": [
    "rownulls = df.rownullsums[df.rownullsums < df.rownullsums.quantile(.95)]"
   ]
  },
  {
   "cell_type": "code",
   "execution_count": 43,
   "metadata": {},
   "outputs": [
    {
     "data": {
      "text/plain": [
       "Text(0.5, 1.0, 'Distribution of missing value counts for rows in 95% quantile')"
      ]
     },
     "execution_count": 43,
     "metadata": {},
     "output_type": "execute_result"
    },
    {
     "data": {
      "image/png": "[encoded data removed]",
      "text/plain": [
       "<Figure size 432x288 with 1 Axes>"
      ]
     },
     "metadata": {
      "needs_background": "light"
     },
     "output_type": "display_data"
    }
   ],
   "source": [
    "plt.bar(rownulls.value_counts().index,rownulls.value_counts().values)\n",
    "plt.title('Distribution of missing value counts for rows in 95% quantile')"
   ]
  },
  {
   "cell_type": "code",
   "execution_count": 60,
   "metadata": {},
   "outputs": [],
   "source": [
    "nullcols = df.isnull().sum(axis=0)\n",
    "nullcols = nullcols[nullcols > 0]\n",
    "\n",
    "nullcols = nullcols[nullcols > nullcols.quantile(.95)]"
   ]
  },
  {
   "cell_type": "code",
   "execution_count": 63,
   "metadata": {},
   "outputs": [
    {
     "data": {
      "text/plain": [
       "Text(0.5, 1.0, 'Most missing data for weather indicator 11')"
      ]
     },
     "execution_count": 63,
     "metadata": {},
     "output_type": "execute_result"
    },
    {
     "data": {
      "image/png": "[encoded data removed]",
      "text/plain": [
       "<Figure size 432x288 with 1 Axes>"
      ]
     },
     "metadata": {
      "needs_background": "light"
     },
     "output_type": "display_data"
    }
   ],
   "source": [
    "plt.barh(nullcols.index,nullcols.values)\n",
    "plt.title('Most missing data for weather indicator 11')"
   ]
  }
 ],
 "metadata": {
  "kernelspec": {
   "display_name": "Python 3",
   "language": "python",
   "name": "python3"
  },
  "language_info": {
   "codemirror_mode": {
    "name": "ipython",
    "version": 3
   },
   "file_extension": ".py",
   "mimetype": "text/x-python",
   "name": "python",
   "nbconvert_exporter": "python",
   "pygments_lexer": "ipython3",
   "version": "3.7.1"
  }
 },
 "nbformat": 4,
 "nbformat_minor": 2
}
